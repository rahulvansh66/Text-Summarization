{
  "nbformat": 4,
  "nbformat_minor": 0,
  "metadata": {
    "colab": {
      "provenance": []
    },
    "kernelspec": {
      "name": "python3",
      "display_name": "Python 3"
    },
    "language_info": {
      "name": "python"
    }
  },
  "cells": [
    {
      "cell_type": "markdown",
      "source": [
        "# Install required packages"
      ],
      "metadata": {
        "id": "7FjQAKuxOf-1"
      }
    },
    {
      "cell_type": "code",
      "source": [
        "!pip install langchain\n",
        "!pip install transformers\n",
        "!pip install streamlit\n",
        "!pip install sentencepiece\n",
        "!pip install accelerate\n",
        "!pip install pypdf"
      ],
      "metadata": {
        "id": "tmP5sEvR38t7"
      },
      "execution_count": null,
      "outputs": []
    },
    {
      "cell_type": "markdown",
      "source": [
        "# Python code for summarization"
      ],
      "metadata": {
        "id": "VeOmt-NKOcFS"
      }
    },
    {
      "cell_type": "code",
      "execution_count": 29,
      "metadata": {
        "colab": {
          "base_uri": "https://localhost:8080/"
        },
        "id": "_Wth6mKL2o9F",
        "outputId": "7577a7db-3f21-4305-fe28-4ace56157c3e"
      },
      "outputs": [
        {
          "output_type": "stream",
          "name": "stdout",
          "text": [
            "Overwriting app.py\n"
          ]
        }
      ],
      "source": [
        "%%writefile app.py\n",
        "import streamlit as st\n",
        "from langchain.text_splitter import RecursiveCharacterTextSplitter\n",
        "from langchain.document_loaders import PyPDFLoader, DirectoryLoader\n",
        "from langchain.chains.summarize import load_summarize_chain\n",
        "from transformers import T5Tokenizer, T5ForConditionalGeneration\n",
        "from transformers import pipeline\n",
        "import torch\n",
        "import base64\n",
        "\n",
        "#model and tokenizer loading\n",
        "checkpoint = 'google/flan-t5-base' #'google/flan-t5-small' #\"LaMini-Flan-T5-248M\"\n",
        "tokenizer = T5Tokenizer.from_pretrained(checkpoint)\n",
        "base_model = T5ForConditionalGeneration.from_pretrained(checkpoint, device_map='auto', torch_dtype=torch.float32)\n",
        "\n",
        "#file loader and preprocessing\n",
        "def file_preprocessing(file):\n",
        "    loader =  PyPDFLoader(file)\n",
        "    pages = loader.load_and_split()\n",
        "    text_splitter = RecursiveCharacterTextSplitter(chunk_size=200, chunk_overlap=50)\n",
        "    texts = text_splitter.split_documents(pages)\n",
        "    final_texts = \"\"\n",
        "    for text in texts:\n",
        "        print(text)\n",
        "        final_texts = final_texts + text.page_content\n",
        "    return final_texts+'Summarize:'\n",
        "\n",
        "#LLM pipeline\n",
        "def llm_pipeline(filepath):\n",
        "    pipe_sum = pipeline(\n",
        "        'summarization',\n",
        "        model = base_model,\n",
        "        tokenizer = tokenizer,\n",
        "        max_length = 700,\n",
        "        min_length = 50)\n",
        "    input_text = file_preprocessing(filepath)\n",
        "    result = pipe_sum(input_text)\n",
        "    result = result[0]['summary_text']\n",
        "    return result\n",
        "\n",
        "@st.cache_data\n",
        "#function to display the PDF of a given file\n",
        "def displayPDF(file):\n",
        "    # Opening file from file path\n",
        "    with open(file, \"rb\") as f:\n",
        "        base64_pdf = base64.b64encode(f.read()).decode('utf-8')\n",
        "\n",
        "    # Embedding PDF in HTML\n",
        "    pdf_display = F'<iframe src=\"data:application/pdf;base64,{base64_pdf}\" width=\"100%\" height=\"600\" type=\"application/pdf\"></iframe>'\n",
        "\n",
        "    # Displaying File\n",
        "    st.markdown(pdf_display, unsafe_allow_html=True)\n",
        "\n",
        "#streamlit code\n",
        "st.set_page_config(layout=\"wide\")\n",
        "\n",
        "def main():\n",
        "    st.title(\"Document Summarization App using FLAN T5 LLM\")\n",
        "\n",
        "    uploaded_file = st.file_uploader(\"Upload your PDF file\", type=['pdf'])\n",
        "\n",
        "    if uploaded_file is not None:\n",
        "        if st.button(\"Summarize\"):\n",
        "            col1, col2 = st.columns(2)\n",
        "            filepath = \"data/\"+uploaded_file.name\n",
        "            with open(filepath, \"wb\") as temp_file:\n",
        "                temp_file.write(uploaded_file.read())\n",
        "            with col1:\n",
        "                st.info(\"Uploaded File\")\n",
        "                pdf_view = displayPDF(filepath)\n",
        "\n",
        "            with col2:\n",
        "                summary = llm_pipeline(filepath)\n",
        "                st.info(\"Summarization Complete\")\n",
        "                st.success(summary)\n",
        "\n",
        "\n",
        "\n",
        "if __name__ == \"__main__\":\n",
        "    main()"
      ]
    },
    {
      "cell_type": "markdown",
      "source": [
        "# Run the app using streamlit"
      ],
      "metadata": {
        "id": "RIvAZuXyOWAu"
      }
    },
    {
      "cell_type": "code",
      "source": [
        "!pip install -q streamlit\n",
        "!npm install localtunnel\n",
        "!streamlit run /content/app.py &>/content/logs.txt &\n",
        "!curl ipv4.icanhazip.com"
      ],
      "metadata": {
        "id": "EXIBk6r43czG"
      },
      "execution_count": null,
      "outputs": []
    },
    {
      "cell_type": "code",
      "source": [
        "!streamlit run app.py & npx localtunnel --port 8501"
      ],
      "metadata": {
        "id": "hydoHmNw3pvY"
      },
      "execution_count": null,
      "outputs": []
    },
    {
      "cell_type": "code",
      "source": [],
      "metadata": {
        "id": "Y-FKwTHJ3s-h"
      },
      "execution_count": null,
      "outputs": []
    }
  ]
}